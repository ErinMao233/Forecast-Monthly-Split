{
  "nbformat": 4,
  "nbformat_minor": 0,
  "metadata": {
    "colab": {
      "provenance": [],
      "include_colab_link": true
    },
    "kernelspec": {
      "name": "python3",
      "display_name": "Python 3"
    },
    "language_info": {
      "name": "python"
    }
  },
  "cells": [
    {
      "cell_type": "markdown",
      "metadata": {
        "id": "view-in-github",
        "colab_type": "text"
      },
      "source": [
        "<a href=\"https://colab.research.google.com/github/ErinMao233/Forecast-Monthly-Split/blob/main/Forecast_Monthly_Split.ipynb\" target=\"_parent\"><img src=\"https://colab.research.google.com/assets/colab-badge.svg\" alt=\"Open In Colab\"/></a>"
      ]
    },
    {
      "cell_type": "markdown",
      "source": [
        "# **Upload data**"
      ],
      "metadata": {
        "id": "ER0Wp7k26Q3E"
      }
    },
    {
      "cell_type": "code",
      "source": [
        "import pandas as pd\n",
        "import numpy as np\n",
        "import matplotlib.pyplot as plt\n",
        "import io\n",
        "import locale\n",
        "from google.colab import drive\n",
        "drive.mount('/content/drive')"
      ],
      "metadata": {
        "id": "ptOjKXkCZc0l",
        "colab": {
          "base_uri": "https://localhost:8080/"
        },
        "outputId": "1bab278e-375e-4e6e-e340-4e986a0fffdc"
      },
      "execution_count": null,
      "outputs": [
        {
          "output_type": "stream",
          "name": "stdout",
          "text": [
            "Mounted at /content/drive\n"
          ]
        }
      ]
    },
    {
      "cell_type": "code",
      "source": [
        "# define some parameters before start\n",
        "fcst_start_month = '04/01/24'"
      ],
      "metadata": {
        "id": "T2_M5gLfs0Q5"
      },
      "execution_count": null,
      "outputs": []
    },
    {
      "cell_type": "code",
      "source": [
        "Split_perc = pd.read_csv('Monthly split Sales and STC.csv')\n",
        "Split_perc.head()"
      ],
      "metadata": {
        "id": "RNLz7nxRZT7Y"
      },
      "execution_count": null,
      "outputs": []
    },
    {
      "cell_type": "code",
      "source": [
        "#update the file name in the quote to be updated everytime before you run the code\n",
        "Sales = pd.ExcelFile('/content/Apr 2024 Week 1 sales forecast_thru 2025.xlsx')\n",
        "Sales_fcst = pd.read_excel(Sales, 'Raw data')\n",
        "Summary_df = pd.read_excel(Sales, 'Summary')\n",
        "Sales_fcst.head()"
      ],
      "metadata": {
        "id": "SicxaRhTkJ6B"
      },
      "execution_count": null,
      "outputs": []
    },
    {
      "cell_type": "code",
      "source": [
        "# Read Excel file with multiple sheets\n",
        "# xls = pd.read_excel(\"C:\\Users\\JMao\\Downloads\\STCAcquisitionForecast_2024-04-01_DMA.xlsx\", sheet_name=['Summary', 'bfps_Retail', 'bfps_Wholesale', 'trades_Retail', 'STCAcquisitionForecast_2024-04-'])\n",
        "xls = pd.ExcelFile('/content/STCAcquisitionForecast_2024-04-01_DMA.xlsx')\n",
        "Summary_df = pd.read_excel(xls, 'Summary')\n",
        "bfps_Retail_df = pd.read_excel(xls, 'bfps_Retail')\n",
        "bfps_Wholesale_df = pd.read_excel(xls, 'bfps_Wholesale')\n",
        "trades_Retail_df = pd.read_excel(xls, 'trades_Retail')\n",
        "trades_Wholesale_df = pd.read_excel(xls, 'trades_Wholesale')\n",
        "\n",
        "bfps_Retail_df.head()"
      ],
      "metadata": {
        "id": "kfootlS8FuNo"
      },
      "execution_count": null,
      "outputs": []
    },
    {
      "cell_type": "markdown",
      "source": [
        "# **Data cleaning**"
      ],
      "metadata": {
        "id": "OyewdALg6J8q"
      }
    },
    {
      "cell_type": "code",
      "source": [
        "# Data clean for Sales forecast: delete columns and rows we don't need, and change the Year, and DMA datatypes to str or int\n",
        "Sales_fcst1 = Sales_fcst.copy()\n",
        "Sales_fcst1.drop(['IsLocalDelivery', 'Quarter', 'Unnamed: 6', 'Unnamed: 7', 'Unnamed: 8', 'Unnamed: 9', 'Unnamed: 10', 'Unnamed: 11', 'Unnamed: 12', 'Unnamed: 13'], axis=1, inplace=True)\n",
        "Sales_fcst1['Month'] = pd.to_datetime(Sales_fcst1['Month'])\n",
        "Sales_fcst1 = Sales_fcst1[Sales_fcst1['Month'] >= fcst_start_month]\n",
        "Sales_fcst1['Year'] = Sales_fcst1['Year'].astype(int)\n",
        "Sales_fcst1['DMA'] = Sales_fcst1['DMA'].astype(str)\n",
        "Sales_fcst1['unit_forecast'] = Sales_fcst1['unit_forecast'].astype(float)\n",
        "Sales_fcst1 = Sales_fcst1.rename(columns = {'unit_forecast':'Sales'})\n"
      ],
      "metadata": {
        "id": "7EZ73nf3uQMd"
      },
      "execution_count": null,
      "outputs": []
    },
    {
      "cell_type": "code",
      "source": [
        "# have bfps_Retail_df with DMA, Month, and bfps_Retail columns\n",
        "bfps_Retail_df = pd.melt(bfps_Retail_df, id_vars=['DMA'], value_vars=['2024-01-01', '2024-02-01','2024-03-01', '2024-04-01'\n",
        ",'2024-05-01', '2024-06-01','2024-07-01', '2024-08-01','2024-09-01', '2024-10-01','2024-11-01', '2024-12-01'\n",
        ",'2025-01-01', '2025-02-01','2025-03-01', '2025-04-01','2025-05-01', '2025-06-01','2025-07-01', '2025-08-01'\n",
        ",'2025-09-01', '2025-10-01','2025-11-01', '2025-12-01'])\n",
        "bfps_Retail_df.rename(columns = {'variable': 'Month', 'value': 'bfps_Retail'}, inplace = True)\n",
        "bfps_Retail_df['Month'] = pd.to_datetime(bfps_Retail_df['Month'])\n",
        "bfps_Retail_df = bfps_Retail_df[bfps_Retail_df['Month'] >= fcst_start_month]\n",
        "# bfps_Retail_df.head()"
      ],
      "metadata": {
        "id": "nFUCeqH9_chW"
      },
      "execution_count": null,
      "outputs": []
    },
    {
      "cell_type": "code",
      "source": [
        "# have bfps_Wholesale_df with DMA, Month, and bfps_Wholesale columns\n",
        "bfps_Wholesale_df = pd.melt(bfps_Wholesale_df, id_vars=['DMA'], value_vars=['2024-01-01', '2024-02-01','2024-03-01', '2024-04-01'\n",
        ",'2024-05-01', '2024-06-01','2024-07-01', '2024-08-01','2024-09-01', '2024-10-01','2024-11-01', '2024-12-01'\n",
        ",'2025-01-01', '2025-02-01','2025-03-01', '2025-04-01','2025-05-01', '2025-06-01','2025-07-01', '2025-08-01'\n",
        ",'2025-09-01', '2025-10-01','2025-11-01', '2025-12-01'])\n",
        "bfps_Wholesale_df.rename(columns = {'variable': 'Month', 'value': 'bfps_Wholesale'}, inplace = True)\n",
        "bfps_Wholesale_df['Month'] = pd.to_datetime(bfps_Wholesale_df['Month'])\n",
        "bfps_Wholesale_df = bfps_Wholesale_df[bfps_Wholesale_df['Month'] >= fcst_start_month]\n",
        "# bfps_Wholesale_df.head()"
      ],
      "metadata": {
        "id": "vZy6jufHleO0"
      },
      "execution_count": null,
      "outputs": []
    },
    {
      "cell_type": "code",
      "source": [
        "# have trades_Retail_df with DMA, Month, and trades_Retail columns\n",
        "trades_Retail_df = pd.melt(trades_Retail_df, id_vars=['DMA'], value_vars=['2024-01-01', '2024-02-01','2024-03-01', '2024-04-01'\n",
        ",'2024-05-01', '2024-06-01','2024-07-01', '2024-08-01','2024-09-01', '2024-10-01','2024-11-01', '2024-12-01'\n",
        ",'2025-01-01', '2025-02-01','2025-03-01', '2025-04-01','2025-05-01', '2025-06-01','2025-07-01', '2025-08-01'\n",
        ",'2025-09-01', '2025-10-01','2025-11-01', '2025-12-01'])\n",
        "trades_Retail_df.rename(columns = {'variable': 'Month', 'value': 'trades_Retail'}, inplace = True)\n",
        "trades_Retail_df['Month'] = pd.to_datetime(trades_Retail_df['Month'])\n",
        "trades_Retail_df = trades_Retail_df[trades_Retail_df['Month'] >= fcst_start_month]\n",
        "# trades_Retail_df.head()"
      ],
      "metadata": {
        "id": "VlAbNam4l_cH"
      },
      "execution_count": null,
      "outputs": []
    },
    {
      "cell_type": "code",
      "source": [
        "# have trades_Wholesale_df with DMA, Month, and trades_Wholesale columns\n",
        "trades_Wholesale_df = pd.melt(trades_Wholesale_df, id_vars=['DMA'], value_vars=['2024-01-01', '2024-02-01','2024-03-01', '2024-04-01'\n",
        ",'2024-05-01', '2024-06-01','2024-07-01', '2024-08-01','2024-09-01', '2024-10-01','2024-11-01', '2024-12-01'\n",
        ",'2025-01-01', '2025-02-01','2025-03-01', '2025-04-01','2025-05-01', '2025-06-01','2025-07-01', '2025-08-01'\n",
        ",'2025-09-01', '2025-10-01','2025-11-01', '2025-12-01'])\n",
        "trades_Wholesale_df.rename(columns = {'variable': 'Month', 'value': 'trades_Wholesale'}, inplace = True)\n",
        "trades_Wholesale_df['Month'] = pd.to_datetime(trades_Wholesale_df['Month'])\n",
        "trades_Wholesale_df = trades_Wholesale_df[trades_Wholesale_df['Month'] >= fcst_start_month]\n",
        "# trades_Wholesale_df.head()"
      ],
      "metadata": {
        "id": "2qLcPeBEmXz_"
      },
      "execution_count": null,
      "outputs": []
    },
    {
      "cell_type": "code",
      "source": [
        "# # only to test if 5 categories remain the same\n",
        "# Sales_fcst1['Sales'].sum()\n",
        "# bfps_Retail_df['bfps_Retail'].sum()\n",
        "# bfps_Wholesale_df['bfps_Wholesale'].sum()\n",
        "# trades_Retail_df['trades_Retail'].sum()\n",
        "# trades_Wholesale_df['trades_Wholesale'].sum()"
      ],
      "metadata": {
        "colab": {
          "base_uri": "https://localhost:8080/"
        },
        "id": "VNVekr-lleaT",
        "outputId": "427275f4-32b3-4bee-e3b2-372dc19b397f"
      },
      "execution_count": null,
      "outputs": [
        {
          "output_type": "execute_result",
          "data": {
            "text/plain": [
              "737463.3704978046"
            ]
          },
          "metadata": {},
          "execution_count": 56
        }
      ]
    },
    {
      "cell_type": "code",
      "source": [
        "# Data clean for Split_perc: change the locationname, and DMA datatypes to str\n",
        "Split_perc['LOCATIONNAME'] = Split_perc['LOCATIONNAME'].astype(str)\n",
        "Split_perc['DMA'] = Split_perc['DMA'].astype(str)"
      ],
      "metadata": {
        "id": "DnrW-L0M-qYb"
      },
      "execution_count": null,
      "outputs": []
    },
    {
      "cell_type": "code",
      "source": [
        "Forecast = Sales_fcst1.merge(bfps_Retail_df, how = 'outer', on = ['DMA', 'Month']).merge(\n",
        "    bfps_Wholesale_df, how = 'outer', on = ['DMA', 'Month']).merge(\n",
        "    trades_Retail_df, how = 'outer', on = ['DMA', 'Month']).merge(\n",
        "    trades_Wholesale_df, how = 'outer', on = ['DMA', 'Month'])\n",
        "Forecast[['Sales', 'bfps_Retail', 'bfps_Wholesale', 'trades_Retail', 'trades_Wholesale']].sum()\n"
      ],
      "metadata": {
        "colab": {
          "base_uri": "https://localhost:8080/"
        },
        "id": "Chjl99sYlol6",
        "outputId": "8b634a55-19f0-4122-d442-796ebf3861bf"
      },
      "execution_count": null,
      "outputs": [
        {
          "output_type": "execute_result",
          "data": {
            "text/plain": [
              "Sales               737463.370498\n",
              "bfps_Retail         577659.086292\n",
              "bfps_Wholesale      270015.485714\n",
              "trades_Retail        85858.913708\n",
              "trades_Wholesale    119663.192857\n",
              "dtype: float64"
            ]
          },
          "metadata": {},
          "execution_count": 54
        }
      ]
    },
    {
      "cell_type": "code",
      "source": [
        "Forecast_split = Forecast.merge(Split_perc, how = 'outer', on='DMA').fillna(0)\n",
        "Forecast_split['Month'] = pd.to_datetime(Forecast_split['Month'])\n",
        "Forecast_split['fcst_Sales'] = Forecast_split['Sales'] * Forecast_split['SALES']\n",
        "Forecast_split['fcst_bfps_Retail'] = Forecast_split['bfps_Retail'] * Forecast_split['BFPS_RETAIL']\n",
        "Forecast_split['fcst_bfps_Wholesale'] = Forecast_split['bfps_Wholesale'] * Forecast_split['BFPS_WHOLESALE']\n",
        "Forecast_split['fcst_trades_Retail'] = Forecast_split['trades_Retail'] * Forecast_split['TRADES_RETAIL']\n",
        "Forecast_split['fcst_trades_Wholesale'] = Forecast_split['trades_Wholesale'] * Forecast_split['TRADES_WHOLESALE']\n",
        "\n",
        "# # Forecast_split.sort_values(by = ['DMA', 'Month']).head()\n",
        "# # Forecast_split[['Sales', 'bfps_Retail', 'bfps_Wholesale', 'trades_Retail', 'trades_Wholesale']].sum()\n",
        "# Forecast_split[['fcst_Sales', 'fcst_bfps_Retail', 'fcst_bfps_Wholesale', 'fcst_trades_Retail', 'fcst_trades_Wholesale']].sum()\n",
        "# # Forecast_split[Forecast_split['SALES'].ne(0).groupby(Forecast_split['DMA']).transform('any')]\n",
        "# SALES_group = Forecast_split[['DMA', \"SALES\", 'Sales']].groupby('DMA', as_index = False).sum()\n",
        "# SALES_group\n",
        "# SALES_group[(SALES_group['SALES'] == 0) & (SALES_group['Sales'] != 0)]"
      ],
      "metadata": {
        "id": "29SBdL4gB1V1"
      },
      "execution_count": null,
      "outputs": []
    },
    {
      "cell_type": "code",
      "source": [
        "# Redistribute only when difference % between raw Sales and forecasted Sales(after split) is less than 0.2%\n",
        "# Otherwise, code won't execute redistribution, and print DMAs appears only in forecast Sales (or saying missing in monthly split query result)\n",
        "Sales_raw = Sales_fcst1['Sales'].sum()\n",
        "calculated_Sales = Forecast_split['fcst_Sales'].sum()\n",
        "if (Sales_raw - calculated_Sales) / Sales_raw <= 0.005:\n",
        "  sum_fcst_Sales = Forecast_split[['Month', 'fcst_Sales']].groupby('Month', as_index = False).sum().rename(columns = {'fcst_Sales': 'sum_fcst_Sales'})\n",
        "  Forecast_split = Forecast_split.merge(sum_fcst_Sales, on = 'Month', how = 'left')\n",
        "  sum_Sales = Sales_fcst1[['Month', 'Sales']].groupby('Month', as_index = False).sum().rename(columns = {'Sales': 'sum_Sales'})\n",
        "  Forecast_split = Forecast_split.merge(sum_Sales, on = 'Month', how = 'left')\n",
        "  Forecast_split['fcst_Sales'] = (Forecast_split['fcst_Sales'] * Forecast_split['sum_Sales']) / Forecast_split['sum_fcst_Sales']\n",
        "else:\n",
        "  SALES_group = Forecast_split[['DMA', \"SALES\", 'Sales']].groupby('DMA', as_index = False).sum()\n",
        "  print(SALES_group[(SALES_group['SALES'] == 0) & (SALES_group['Sales'] != 0)])\n"
      ],
      "metadata": {
        "id": "YR1Vn2cxSSY0"
      },
      "execution_count": null,
      "outputs": []
    },
    {
      "cell_type": "code",
      "source": [
        "# do the similiar to bfp retail\n",
        "bfps_Retail_raw = bfps_Retail_df['bfps_Retail'].sum()\n",
        "calculated_bfps_Retail = Forecast_split['fcst_bfps_Retail'].sum()\n",
        "if (bfps_Retail_raw - calculated_bfps_Retail) / bfps_Retail_raw <= 0.005:\n",
        "  sum_fcst_bfps_Retail = Forecast_split[['Month', 'fcst_bfps_Retail']].groupby('Month', as_index = False).sum().rename(\n",
        "      columns = {'fcst_bfps_Retail': 'sum_fcst_bfps_Retail'})\n",
        "  Forecast_split = Forecast_split.merge(sum_fcst_bfps_Retail, on = 'Month', how = 'left')\n",
        "  sum_bfps_Retail = bfps_Retail_df[['Month', 'bfps_Retail']].groupby('Month', as_index = False).sum().rename(\n",
        "      columns = {'bfps_Retail': 'sum_bfps_Retail'})\n",
        "  Forecast_split = Forecast_split.merge(sum_bfps_Retail, on = 'Month', how = 'left')\n",
        "  Forecast_split['fcst_bfps_Retail'] = (Forecast_split['fcst_bfps_Retail'] * Forecast_split['sum_bfps_Retail']) / Forecast_split['sum_fcst_bfps_Retail']\n",
        "else:\n",
        "  bfps_Retail_group = Forecast_split[['DMA', \"BFPS_RETAIL\", 'bfps_Retail']].groupby('DMA', as_index = False).sum()\n",
        "  print(bfps_Retail_group[(bfps_Retail_group['BFPS_RETAIL'] == 0) & (bfps_Retail_group['bfps_Retail'] != 0)])"
      ],
      "metadata": {
        "id": "vXVI98mLsQnr"
      },
      "execution_count": null,
      "outputs": []
    },
    {
      "cell_type": "code",
      "source": [
        "# do the similiar to bfp wholesale\n",
        "bfps_Wholesale_raw = bfps_Wholesale_df['bfps_Wholesale'].sum()\n",
        "calculated_bfps_Wholesale = Forecast_split['fcst_bfps_Wholesale'].sum()\n",
        "if (bfps_Wholesale_raw - calculated_bfps_Wholesale) / bfps_Wholesale_raw <= 0.005:\n",
        "  sum_fcst_bfps_Wholesale = Forecast_split[['Month', 'fcst_bfps_Wholesale']].groupby('Month', as_index = False).sum().rename(\n",
        "      columns = {'fcst_bfps_Wholesale': 'sum_fcst_bfps_Wholesale'})\n",
        "  Forecast_split = Forecast_split.merge(sum_fcst_bfps_Wholesale, on = 'Month', how = 'left')\n",
        "  sum_bfps_Wholesale = bfps_Wholesale_df[['Month', 'bfps_Wholesale']].groupby('Month', as_index = False).sum().rename(\n",
        "      columns = {'bfps_Wholesale': 'sum_bfps_Wholesale'})\n",
        "  Forecast_split = Forecast_split.merge(sum_bfps_Wholesale, on = 'Month', how = 'left')\n",
        "  Forecast_split['fcst_bfps_Wholesale'] = (Forecast_split['fcst_bfps_Wholesale'] * Forecast_split['sum_bfps_Wholesale']) / Forecast_split['sum_fcst_bfps_Wholesale']\n",
        "else:\n",
        "  bfps_Wholesale_group = Forecast_split[['DMA', \"BFPS_WHOLESALE\", 'bfps_Wholesale']].groupby('DMA', as_index = False).sum()\n",
        "  print(bfps_Wholesale_group[(bfps_Wholesale_group['BFPS_WHOLESALE'] == 0) & (bfps_Wholesale_group['bfps_Wholesale'] != 0)])"
      ],
      "metadata": {
        "id": "bL55DfXCqIUd"
      },
      "execution_count": null,
      "outputs": []
    },
    {
      "cell_type": "code",
      "source": [
        "# do the similiar to trades Retail\n",
        "trades_Retail_raw = trades_Retail_df['trades_Retail'].sum()\n",
        "calculated_trades_Retail = Forecast_split['fcst_trades_Retail'].sum()\n",
        "if (trades_Retail_raw - calculated_trades_Retail) / trades_Retail_raw <= 0.005:\n",
        "  sum_fcst_trades_Retail = Forecast_split[['Month', 'fcst_trades_Retail']].groupby('Month', as_index = False).sum().rename(\n",
        "      columns = {'fcst_trades_Retail': 'sum_fcst_trades_Retail'})\n",
        "  Forecast_split = Forecast_split.merge(sum_fcst_trades_Retail, on = 'Month', how = 'left')\n",
        "  sum_trades_Retail = trades_Retail_df[['Month', 'trades_Retail']].groupby('Month', as_index = False).sum().rename(\n",
        "      columns = {'trades_Retail': 'sum_trades_Retail'})\n",
        "  Forecast_split = Forecast_split.merge(sum_trades_Retail, on = 'Month', how = 'left')\n",
        "  Forecast_split['fcst_trades_Retail'] = (Forecast_split['fcst_trades_Retail'] * Forecast_split['sum_trades_Retail']) / Forecast_split['sum_fcst_trades_Retail']\n",
        "else:\n",
        "  trades_Retail_group = Forecast_split[['DMA', 'TRADES_RETAIL', 'trades_Retail']].groupby('DMA', as_index = False).sum()\n",
        "  print(trades_Retail_group[(trades_Retail_group['TRADES_RETAIL'] == 0) & (trades_Retail_group['trades_Retail'] != 0)])"
      ],
      "metadata": {
        "id": "dW8IAGiF_-AU"
      },
      "execution_count": null,
      "outputs": []
    },
    {
      "cell_type": "code",
      "source": [
        "# do the similiar to trades Wholesale\n",
        "trades_Wholesale_raw = trades_Wholesale_df['trades_Wholesale'].sum()\n",
        "calculated_trades_Wholesale = Forecast_split['fcst_trades_Wholesale'].sum()\n",
        "if (trades_Wholesale_raw - calculated_trades_Wholesale) / trades_Wholesale_raw <= 0.005:\n",
        "  sum_fcst_trades_Wholesale = Forecast_split[['Month', 'fcst_trades_Wholesale']].groupby('Month', as_index = False).sum().rename(\n",
        "      columns = {'fcst_trades_Wholesale': 'sum_fcst_trades_Wholesale'})\n",
        "  Forecast_split = Forecast_split.merge(sum_fcst_trades_Wholesale, on = 'Month', how = 'left')\n",
        "  sum_trades_Wholesale = trades_Wholesale_df[['Month', 'trades_Wholesale']].groupby('Month', as_index = False).sum().rename(\n",
        "      columns = {'trades_Wholesale': 'sum_trades_Wholesale'})\n",
        "  Forecast_split = Forecast_split.merge(sum_trades_Wholesale, on = 'Month', how = 'left')\n",
        "  Forecast_split['fcst_trades_Wholesale'] = (Forecast_split['fcst_trades_Wholesale'] * Forecast_split['sum_trades_Wholesale']) / Forecast_split['sum_fcst_trades_Wholesale']\n",
        "else:\n",
        "  trades_Wholesale_group = Forecast_split[['DMA', 'TRADES_WHOLESALE', 'trades_Wholesale']].groupby('DMA', as_index = False).sum()\n",
        "  print(trades_Wholesale_group[(trades_Wholesale_group['TRADES_WHOLESALE'] == 0) & (trades_Wholesale_group['trades_Wholesale'] != 0)])"
      ],
      "metadata": {
        "id": "F7P_DaxqCuTF"
      },
      "execution_count": null,
      "outputs": []
    },
    {
      "cell_type": "code",
      "source": [
        "Forecast_split = Forecast_split[['Month', 'DMA', 'LOCATIONID', 'LOCATIONNAME', 'fcst_Sales', 'fcst_bfps_Retail', 'fcst_bfps_Wholesale', 'fcst_trades_Retail', 'fcst_trades_Wholesale']]\n",
        "# Forecast_split.drop(['DMA', 'LOCATIONNAME'], axis = 1).groupby(by = ['Month'], as_index = False).sum()\n",
        "Forecast_split = Forecast_split[Forecast_split['LOCATIONNAME'] != 0]\n",
        "split_result = Forecast_split.drop(['DMA'], axis = 1).groupby(by = ['Month', 'LOCATIONNAME', 'LOCATIONID'], as_index = False).sum()\n",
        "# split_result['Month'] = split_result['Month'].astype(str)\n",
        "# split_result.astype(str)\n",
        "split_result.info()\n",
        "split_result.head()\n",
        "# split_result[['fcst_Sales', 'fcst_bfps_Retail', 'fcst_bfps_Wholesale', 'fcst_trades_Retail', 'fcst_trades_Wholesale']].sum()"
      ],
      "metadata": {
        "colab": {
          "base_uri": "https://localhost:8080/",
          "height": 466
        },
        "id": "tjZN53WdaIKP",
        "outputId": "4b84a80e-a169-40e6-97a0-5f40227618a8"
      },
      "execution_count": null,
      "outputs": [
        {
          "output_type": "stream",
          "name": "stdout",
          "text": [
            "<class 'pandas.core.frame.DataFrame'>\n",
            "RangeIndex: 2877 entries, 0 to 2876\n",
            "Data columns (total 8 columns):\n",
            " #   Column                 Non-Null Count  Dtype         \n",
            "---  ------                 --------------  -----         \n",
            " 0   Month                  2877 non-null   datetime64[ns]\n",
            " 1   LOCATIONNAME           2877 non-null   object        \n",
            " 2   LOCATIONID             2877 non-null   float64       \n",
            " 3   fcst_Sales             2877 non-null   float64       \n",
            " 4   fcst_bfps_Retail       2877 non-null   float64       \n",
            " 5   fcst_bfps_Wholesale    2877 non-null   float64       \n",
            " 6   fcst_trades_Retail     2877 non-null   float64       \n",
            " 7   fcst_trades_Wholesale  2877 non-null   float64       \n",
            "dtypes: datetime64[ns](1), float64(6), object(1)\n",
            "memory usage: 179.9+ KB\n"
          ]
        },
        {
          "output_type": "execute_result",
          "data": {
            "text/plain": [
              "       Month              LOCATIONNAME  LOCATIONID  fcst_Sales  \\\n",
              "0 2024-04-01             AD Atlanta GA       295.0    0.000000   \n",
              "1 2024-04-01        Albany NY - Loudon       365.0  126.186101   \n",
              "2 2024-04-01  Albuquerque NM - Karsten       239.0  235.501421   \n",
              "3 2024-04-01              Asheville NC       265.0  213.472335   \n",
              "4 2024-04-01   Atlanta GA - Union City       464.0  497.201081   \n",
              "\n",
              "   fcst_bfps_Retail  fcst_bfps_Wholesale  fcst_trades_Retail  \\\n",
              "0          0.000000             3.105599            0.000000   \n",
              "1         53.974705            31.406237            4.645711   \n",
              "2         69.083711            25.572553           24.584807   \n",
              "3        107.569285            36.464751           25.472438   \n",
              "4        185.396558            85.417470           63.271631   \n",
              "\n",
              "   fcst_trades_Wholesale  \n",
              "0               0.000000  \n",
              "1               9.788500  \n",
              "2              25.637560  \n",
              "3              36.139049  \n",
              "4              68.567407  "
            ],
            "text/html": [
              "\n",
              "  <div id=\"df-eabfb9b2-7ff0-4dc9-a2a6-a9a737a8f1ff\" class=\"colab-df-container\">\n",
              "    <div>\n",
              "<style scoped>\n",
              "    .dataframe tbody tr th:only-of-type {\n",
              "        vertical-align: middle;\n",
              "    }\n",
              "\n",
              "    .dataframe tbody tr th {\n",
              "        vertical-align: top;\n",
              "    }\n",
              "\n",
              "    .dataframe thead th {\n",
              "        text-align: right;\n",
              "    }\n",
              "</style>\n",
              "<table border=\"1\" class=\"dataframe\">\n",
              "  <thead>\n",
              "    <tr style=\"text-align: right;\">\n",
              "      <th></th>\n",
              "      <th>Month</th>\n",
              "      <th>LOCATIONNAME</th>\n",
              "      <th>LOCATIONID</th>\n",
              "      <th>fcst_Sales</th>\n",
              "      <th>fcst_bfps_Retail</th>\n",
              "      <th>fcst_bfps_Wholesale</th>\n",
              "      <th>fcst_trades_Retail</th>\n",
              "      <th>fcst_trades_Wholesale</th>\n",
              "    </tr>\n",
              "  </thead>\n",
              "  <tbody>\n",
              "    <tr>\n",
              "      <th>0</th>\n",
              "      <td>2024-04-01</td>\n",
              "      <td>AD Atlanta GA</td>\n",
              "      <td>295.0</td>\n",
              "      <td>0.000000</td>\n",
              "      <td>0.000000</td>\n",
              "      <td>3.105599</td>\n",
              "      <td>0.000000</td>\n",
              "      <td>0.000000</td>\n",
              "    </tr>\n",
              "    <tr>\n",
              "      <th>1</th>\n",
              "      <td>2024-04-01</td>\n",
              "      <td>Albany NY - Loudon</td>\n",
              "      <td>365.0</td>\n",
              "      <td>126.186101</td>\n",
              "      <td>53.974705</td>\n",
              "      <td>31.406237</td>\n",
              "      <td>4.645711</td>\n",
              "      <td>9.788500</td>\n",
              "    </tr>\n",
              "    <tr>\n",
              "      <th>2</th>\n",
              "      <td>2024-04-01</td>\n",
              "      <td>Albuquerque NM - Karsten</td>\n",
              "      <td>239.0</td>\n",
              "      <td>235.501421</td>\n",
              "      <td>69.083711</td>\n",
              "      <td>25.572553</td>\n",
              "      <td>24.584807</td>\n",
              "      <td>25.637560</td>\n",
              "    </tr>\n",
              "    <tr>\n",
              "      <th>3</th>\n",
              "      <td>2024-04-01</td>\n",
              "      <td>Asheville NC</td>\n",
              "      <td>265.0</td>\n",
              "      <td>213.472335</td>\n",
              "      <td>107.569285</td>\n",
              "      <td>36.464751</td>\n",
              "      <td>25.472438</td>\n",
              "      <td>36.139049</td>\n",
              "    </tr>\n",
              "    <tr>\n",
              "      <th>4</th>\n",
              "      <td>2024-04-01</td>\n",
              "      <td>Atlanta GA - Union City</td>\n",
              "      <td>464.0</td>\n",
              "      <td>497.201081</td>\n",
              "      <td>185.396558</td>\n",
              "      <td>85.417470</td>\n",
              "      <td>63.271631</td>\n",
              "      <td>68.567407</td>\n",
              "    </tr>\n",
              "  </tbody>\n",
              "</table>\n",
              "</div>\n",
              "    <div class=\"colab-df-buttons\">\n",
              "\n",
              "  <div class=\"colab-df-container\">\n",
              "    <button class=\"colab-df-convert\" onclick=\"convertToInteractive('df-eabfb9b2-7ff0-4dc9-a2a6-a9a737a8f1ff')\"\n",
              "            title=\"Convert this dataframe to an interactive table.\"\n",
              "            style=\"display:none;\">\n",
              "\n",
              "  <svg xmlns=\"http://www.w3.org/2000/svg\" height=\"24px\" viewBox=\"0 -960 960 960\">\n",
              "    <path d=\"M120-120v-720h720v720H120Zm60-500h600v-160H180v160Zm220 220h160v-160H400v160Zm0 220h160v-160H400v160ZM180-400h160v-160H180v160Zm440 0h160v-160H620v160ZM180-180h160v-160H180v160Zm440 0h160v-160H620v160Z\"/>\n",
              "  </svg>\n",
              "    </button>\n",
              "\n",
              "  <style>\n",
              "    .colab-df-container {\n",
              "      display:flex;\n",
              "      gap: 12px;\n",
              "    }\n",
              "\n",
              "    .colab-df-convert {\n",
              "      background-color: #E8F0FE;\n",
              "      border: none;\n",
              "      border-radius: 50%;\n",
              "      cursor: pointer;\n",
              "      display: none;\n",
              "      fill: #1967D2;\n",
              "      height: 32px;\n",
              "      padding: 0 0 0 0;\n",
              "      width: 32px;\n",
              "    }\n",
              "\n",
              "    .colab-df-convert:hover {\n",
              "      background-color: #E2EBFA;\n",
              "      box-shadow: 0px 1px 2px rgba(60, 64, 67, 0.3), 0px 1px 3px 1px rgba(60, 64, 67, 0.15);\n",
              "      fill: #174EA6;\n",
              "    }\n",
              "\n",
              "    .colab-df-buttons div {\n",
              "      margin-bottom: 4px;\n",
              "    }\n",
              "\n",
              "    [theme=dark] .colab-df-convert {\n",
              "      background-color: #3B4455;\n",
              "      fill: #D2E3FC;\n",
              "    }\n",
              "\n",
              "    [theme=dark] .colab-df-convert:hover {\n",
              "      background-color: #434B5C;\n",
              "      box-shadow: 0px 1px 3px 1px rgba(0, 0, 0, 0.15);\n",
              "      filter: drop-shadow(0px 1px 2px rgba(0, 0, 0, 0.3));\n",
              "      fill: #FFFFFF;\n",
              "    }\n",
              "  </style>\n",
              "\n",
              "    <script>\n",
              "      const buttonEl =\n",
              "        document.querySelector('#df-eabfb9b2-7ff0-4dc9-a2a6-a9a737a8f1ff button.colab-df-convert');\n",
              "      buttonEl.style.display =\n",
              "        google.colab.kernel.accessAllowed ? 'block' : 'none';\n",
              "\n",
              "      async function convertToInteractive(key) {\n",
              "        const element = document.querySelector('#df-eabfb9b2-7ff0-4dc9-a2a6-a9a737a8f1ff');\n",
              "        const dataTable =\n",
              "          await google.colab.kernel.invokeFunction('convertToInteractive',\n",
              "                                                    [key], {});\n",
              "        if (!dataTable) return;\n",
              "\n",
              "        const docLinkHtml = 'Like what you see? Visit the ' +\n",
              "          '<a target=\"_blank\" href=https://colab.research.google.com/notebooks/data_table.ipynb>data table notebook</a>'\n",
              "          + ' to learn more about interactive tables.';\n",
              "        element.innerHTML = '';\n",
              "        dataTable['output_type'] = 'display_data';\n",
              "        await google.colab.output.renderOutput(dataTable, element);\n",
              "        const docLink = document.createElement('div');\n",
              "        docLink.innerHTML = docLinkHtml;\n",
              "        element.appendChild(docLink);\n",
              "      }\n",
              "    </script>\n",
              "  </div>\n",
              "\n",
              "\n",
              "<div id=\"df-b5c445d2-a1d0-40d0-acac-0526c68bc09f\">\n",
              "  <button class=\"colab-df-quickchart\" onclick=\"quickchart('df-b5c445d2-a1d0-40d0-acac-0526c68bc09f')\"\n",
              "            title=\"Suggest charts\"\n",
              "            style=\"display:none;\">\n",
              "\n",
              "<svg xmlns=\"http://www.w3.org/2000/svg\" height=\"24px\"viewBox=\"0 0 24 24\"\n",
              "     width=\"24px\">\n",
              "    <g>\n",
              "        <path d=\"M19 3H5c-1.1 0-2 .9-2 2v14c0 1.1.9 2 2 2h14c1.1 0 2-.9 2-2V5c0-1.1-.9-2-2-2zM9 17H7v-7h2v7zm4 0h-2V7h2v10zm4 0h-2v-4h2v4z\"/>\n",
              "    </g>\n",
              "</svg>\n",
              "  </button>\n",
              "\n",
              "<style>\n",
              "  .colab-df-quickchart {\n",
              "      --bg-color: #E8F0FE;\n",
              "      --fill-color: #1967D2;\n",
              "      --hover-bg-color: #E2EBFA;\n",
              "      --hover-fill-color: #174EA6;\n",
              "      --disabled-fill-color: #AAA;\n",
              "      --disabled-bg-color: #DDD;\n",
              "  }\n",
              "\n",
              "  [theme=dark] .colab-df-quickchart {\n",
              "      --bg-color: #3B4455;\n",
              "      --fill-color: #D2E3FC;\n",
              "      --hover-bg-color: #434B5C;\n",
              "      --hover-fill-color: #FFFFFF;\n",
              "      --disabled-bg-color: #3B4455;\n",
              "      --disabled-fill-color: #666;\n",
              "  }\n",
              "\n",
              "  .colab-df-quickchart {\n",
              "    background-color: var(--bg-color);\n",
              "    border: none;\n",
              "    border-radius: 50%;\n",
              "    cursor: pointer;\n",
              "    display: none;\n",
              "    fill: var(--fill-color);\n",
              "    height: 32px;\n",
              "    padding: 0;\n",
              "    width: 32px;\n",
              "  }\n",
              "\n",
              "  .colab-df-quickchart:hover {\n",
              "    background-color: var(--hover-bg-color);\n",
              "    box-shadow: 0 1px 2px rgba(60, 64, 67, 0.3), 0 1px 3px 1px rgba(60, 64, 67, 0.15);\n",
              "    fill: var(--button-hover-fill-color);\n",
              "  }\n",
              "\n",
              "  .colab-df-quickchart-complete:disabled,\n",
              "  .colab-df-quickchart-complete:disabled:hover {\n",
              "    background-color: var(--disabled-bg-color);\n",
              "    fill: var(--disabled-fill-color);\n",
              "    box-shadow: none;\n",
              "  }\n",
              "\n",
              "  .colab-df-spinner {\n",
              "    border: 2px solid var(--fill-color);\n",
              "    border-color: transparent;\n",
              "    border-bottom-color: var(--fill-color);\n",
              "    animation:\n",
              "      spin 1s steps(1) infinite;\n",
              "  }\n",
              "\n",
              "  @keyframes spin {\n",
              "    0% {\n",
              "      border-color: transparent;\n",
              "      border-bottom-color: var(--fill-color);\n",
              "      border-left-color: var(--fill-color);\n",
              "    }\n",
              "    20% {\n",
              "      border-color: transparent;\n",
              "      border-left-color: var(--fill-color);\n",
              "      border-top-color: var(--fill-color);\n",
              "    }\n",
              "    30% {\n",
              "      border-color: transparent;\n",
              "      border-left-color: var(--fill-color);\n",
              "      border-top-color: var(--fill-color);\n",
              "      border-right-color: var(--fill-color);\n",
              "    }\n",
              "    40% {\n",
              "      border-color: transparent;\n",
              "      border-right-color: var(--fill-color);\n",
              "      border-top-color: var(--fill-color);\n",
              "    }\n",
              "    60% {\n",
              "      border-color: transparent;\n",
              "      border-right-color: var(--fill-color);\n",
              "    }\n",
              "    80% {\n",
              "      border-color: transparent;\n",
              "      border-right-color: var(--fill-color);\n",
              "      border-bottom-color: var(--fill-color);\n",
              "    }\n",
              "    90% {\n",
              "      border-color: transparent;\n",
              "      border-bottom-color: var(--fill-color);\n",
              "    }\n",
              "  }\n",
              "</style>\n",
              "\n",
              "  <script>\n",
              "    async function quickchart(key) {\n",
              "      const quickchartButtonEl =\n",
              "        document.querySelector('#' + key + ' button');\n",
              "      quickchartButtonEl.disabled = true;  // To prevent multiple clicks.\n",
              "      quickchartButtonEl.classList.add('colab-df-spinner');\n",
              "      try {\n",
              "        const charts = await google.colab.kernel.invokeFunction(\n",
              "            'suggestCharts', [key], {});\n",
              "      } catch (error) {\n",
              "        console.error('Error during call to suggestCharts:', error);\n",
              "      }\n",
              "      quickchartButtonEl.classList.remove('colab-df-spinner');\n",
              "      quickchartButtonEl.classList.add('colab-df-quickchart-complete');\n",
              "    }\n",
              "    (() => {\n",
              "      let quickchartButtonEl =\n",
              "        document.querySelector('#df-b5c445d2-a1d0-40d0-acac-0526c68bc09f button');\n",
              "      quickchartButtonEl.style.display =\n",
              "        google.colab.kernel.accessAllowed ? 'block' : 'none';\n",
              "    })();\n",
              "  </script>\n",
              "</div>\n",
              "    </div>\n",
              "  </div>\n"
            ],
            "application/vnd.google.colaboratory.intrinsic+json": {
              "type": "dataframe",
              "summary": "{\n  \"name\": \"# split_result[['fcst_Sales', 'fcst_bfps_Retail', 'fcst_bfps_Wholesale', 'fcst_trades_Retail', 'fcst_trades_Wholesale']]\",\n  \"rows\": 5,\n  \"fields\": [\n    {\n      \"column\": \"Month\",\n      \"properties\": {\n        \"dtype\": \"date\",\n        \"min\": \"2024-04-01 00:00:00\",\n        \"max\": \"2024-04-01 00:00:00\",\n        \"num_unique_values\": 1,\n        \"samples\": [\n          \"2024-04-01 00:00:00\"\n        ],\n        \"semantic_type\": \"\",\n        \"description\": \"\"\n      }\n    },\n    {\n      \"column\": \"LOCATIONNAME\",\n      \"properties\": {\n        \"dtype\": \"string\",\n        \"num_unique_values\": 5,\n        \"samples\": [\n          \"Albany NY - Loudon\"\n        ],\n        \"semantic_type\": \"\",\n        \"description\": \"\"\n      }\n    },\n    {\n      \"column\": \"LOCATIONID\",\n      \"properties\": {\n        \"dtype\": \"number\",\n        \"std\": 90.57483094105116,\n        \"min\": 239.0,\n        \"max\": 464.0,\n        \"num_unique_values\": 5,\n        \"samples\": [\n          365.0\n        ],\n        \"semantic_type\": \"\",\n        \"description\": \"\"\n      }\n    },\n    {\n      \"column\": \"fcst_Sales\",\n      \"properties\": {\n        \"dtype\": \"number\",\n        \"std\": 183.14721395723993,\n        \"min\": 0.0,\n        \"max\": 497.2010811475676,\n        \"num_unique_values\": 5,\n        \"samples\": [\n          126.18610110055285\n        ],\n        \"semantic_type\": \"\",\n        \"description\": \"\"\n      }\n    },\n    {\n      \"column\": \"fcst_bfps_Retail\",\n      \"properties\": {\n        \"dtype\": \"number\",\n        \"std\": 68.94495267344351,\n        \"min\": 0.0,\n        \"max\": 185.39655836205117,\n        \"num_unique_values\": 5,\n        \"samples\": [\n          53.97470461151859\n        ],\n        \"semantic_type\": \"\",\n        \"description\": \"\"\n      }\n    },\n    {\n      \"column\": \"fcst_bfps_Wholesale\",\n      \"properties\": {\n        \"dtype\": \"number\",\n        \"std\": 30.22170068401702,\n        \"min\": 3.1055988025839953,\n        \"max\": 85.417469998724,\n        \"num_unique_values\": 5,\n        \"samples\": [\n          31.40623696909833\n        ],\n        \"semantic_type\": \"\",\n        \"description\": \"\"\n      }\n    },\n    {\n      \"column\": \"fcst_trades_Retail\",\n      \"properties\": {\n        \"dtype\": \"number\",\n        \"std\": 24.97268061580031,\n        \"min\": 0.0,\n        \"max\": 63.271630868320855,\n        \"num_unique_values\": 5,\n        \"samples\": [\n          4.64571095019968\n        ],\n        \"semantic_type\": \"\",\n        \"description\": \"\"\n      }\n    },\n    {\n      \"column\": \"fcst_trades_Wholesale\",\n      \"properties\": {\n        \"dtype\": \"number\",\n        \"std\": 26.613882444368457,\n        \"min\": 0.0,\n        \"max\": 68.56740682422175,\n        \"num_unique_values\": 5,\n        \"samples\": [\n          9.788500071857563\n        ],\n        \"semantic_type\": \"\",\n        \"description\": \"\"\n      }\n    }\n  ]\n}"
            }
          },
          "metadata": {},
          "execution_count": 143
        }
      ]
    },
    {
      "cell_type": "code",
      "source": [
        "split_result.to_csv(\"split_result.csv\")"
      ],
      "metadata": {
        "id": "42YPD5Ov-qeM"
      },
      "execution_count": null,
      "outputs": []
    },
    {
      "cell_type": "code",
      "source": [],
      "metadata": {
        "id": "5kfcGYlV-qgw"
      },
      "execution_count": null,
      "outputs": []
    },
    {
      "cell_type": "code",
      "source": [],
      "metadata": {
        "id": "oaKJCWfv-qji"
      },
      "execution_count": null,
      "outputs": []
    }
  ]
}